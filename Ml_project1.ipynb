{
 "cells": [
  {
   "cell_type": "markdown",
   "metadata": {},
   "source": [
    "# **Machine Learning**\n",
    "\n",
    "## Project 1"
   ]
  },
  {
   "cell_type": "markdown",
   "metadata": {},
   "source": [
    "## Load Mnist dataset\n",
    "\n",
    "In the data folder there is the dataset of mnist. Mnists consists of  28𝑥28  grayscale images. In total there are 10 training files train0.txt, train1.txt, ..., train9.txt where each rows of train 𝑘 .txt corresponds to an example that belongs to the class  𝑘 .\n",
    "\n",
    "The testing data follows the same format."
   ]
  },
  {
   "cell_type": "code",
   "execution_count": null,
   "metadata": {},
   "outputs": [],
   "source": [
    "import numpy as np\n",
    "import pandas as pd\n",
    "import matplotlib.pyplot as plt\n",
    "%matplotlib inline"
   ]
  },
  {
   "cell_type": "code",
   "execution_count": null,
   "metadata": {},
   "outputs": [],
   "source": [
    "def load_data():\n",
    "    \n",
    "    #-------load train files----------------\n",
    "    x_train = None\n",
    "    \n",
    "    y_train = []\n",
    "\n",
    "    for i in range( 10 ):\n",
    "        tmp = pd.read_csv( 'mnistdata/train%d.txt' % i, header=None, sep=\" \" )\n",
    "        \n",
    "        hot_vector = [ 1 if j == i else 0 for j in range(0,10) ]\n",
    "        \n",
    "        for j in range( tmp.shape[0] ):\n",
    "            y_train.append( hot_vector )\n",
    "            \n",
    "        if i == 0:\n",
    "            x_train = tmp\n",
    "        else:\n",
    "            x_train = pd.concat( [x_train, tmp] )\n",
    "\n",
    "    train_data = x_train.as_matrix()\n",
    "    y_train = np.array( y_train )\n",
    "    \n",
    "    #--------load test files------------------\n",
    "    x_test = None\n",
    "    \n",
    "    y_test = []\n",
    "\n",
    "    for i in range( 10 ):\n",
    "        tmp = pd.read_csv( 'mnistdata/test%d.txt' % i, header=None, sep=\" \" )\n",
    "        \n",
    "        hot_vector = [ 1 if j == i else 0 for j in range(0,10) ]\n",
    "        \n",
    "        for j in range( tmp.shape[0] ):\n",
    "            y_test.append( hot_vector )\n",
    "            \n",
    "        if i == 0:\n",
    "            x_test = tmp\n",
    "        else:\n",
    "            x_test = pd.concat( [x_test, tmp] )\n",
    "\n",
    "    test_data = x_test.as_matrix()\n",
    "    y_test = np.array( y_test )\n",
    "    \n",
    "    return train_data, test_data, y_train, y_test"
   ]
  },
  {
   "cell_type": "code",
   "execution_count": null,
   "metadata": {
    "scrolled": true
   },
   "outputs": [],
   "source": [
    "X_train, X_test, Y_train, Y_test = load_data()\n",
    "\n",
    "print(\"X_train shape = \",X_train.shape)\n",
    "print(\"X_test shape = \",X_test.shape)\n",
    "print(\"Y_train shape = \",Y_train.shape)\n",
    "print(\"Y_test shape = \",Y_test.shape)\n"
   ]
  },
  {
   "cell_type": "markdown",
   "metadata": {},
   "source": [
    "## Load CIFAR-10 dataset"
   ]
  },
  {
   "cell_type": "code",
   "execution_count": null,
   "metadata": {},
   "outputs": [],
   "source": [
    "import pickle\n",
    "import sys\n",
    "import os\n",
    "def unpickle(file):\n",
    "    \"\"\"load the cifar-10 data\"\"\"\n",
    "\n",
    "    with open(file, 'rb') as fo:\n",
    "        data = pickle.load(fo, encoding='bytes')\n",
    "    return data\n",
    "\n",
    "\n",
    "def load_batch(f_path, label_key='labels'):\n",
    "    \"\"\"Internal utility for parsing CIFAR data.\n",
    "    # Arguments\n",
    "        fpath: path the file to parse.\n",
    "        label_key: key for label data in the retrieve\n",
    "            dictionary.\n",
    "    # Returns\n",
    "        A tuple `(data, labels)`.\n",
    "    \"\"\"\n",
    "    with open(f_path, 'rb') as f:\n",
    "        if sys.version_info < (3,):\n",
    "            d = pickle.load(f)\n",
    "        else:\n",
    "            d = pickle.load(f, encoding='bytes')\n",
    "            # decode utf8\n",
    "            d_decoded = {}\n",
    "            for k, v in d.items():\n",
    "                d_decoded[k.decode('utf8')] = v\n",
    "            d = d_decoded\n",
    "    data = d['data']\n",
    "    labels = d[label_key]\n",
    "\n",
    "    data = data.reshape(data.shape[0], 3, 32, 32)\n",
    "    return data, labels\n",
    "\n",
    "\n",
    "def load_data(path, negatives=False):\n",
    "    \"\"\"Loads CIFAR10 dataset.\n",
    "    # Returns\n",
    "        Tuple of Numpy arrays: `(x_train, y_train), (x_test, y_test)`.\n",
    "    \"\"\"\n",
    "\n",
    "    num_train_samples = 50000\n",
    "\n",
    "    x_train_local = np.empty((num_train_samples, 3, 32, 32), dtype='uint8')\n",
    "    y_train_local = np.empty((num_train_samples,), dtype='uint8')\n",
    "\n",
    "    for i in range(1, 6):\n",
    "        fpath = os.path.join(path, 'data_batch_' + str(i))\n",
    "        (x_train_local[(i - 1) * 10000: i * 10000, :, :, :],\n",
    "         y_train_local[(i - 1) * 10000: i * 10000]) = load_batch(fpath)\n",
    "\n",
    "    fpath = os.path.join(path, 'test_batch')\n",
    "    x_test_local, y_test_local = load_batch(fpath)\n",
    "\n",
    "    y_train_local = np.reshape(y_train_local, (len(y_train_local), 1))\n",
    "    y_test_local = np.reshape(y_test_local, (len(y_test_local), 1))\n",
    "\n",
    "    if negatives:\n",
    "        x_train_local = x_train_local.transpose(0, 2, 3, 1).astype(np.float32)\n",
    "        x_test_local = x_test_local.transpose(0, 2, 3, 1).astype(np.float32)\n",
    "    else:\n",
    "        x_train_local = np.rollaxis(x_train_local, 1, 4)\n",
    "        x_test_local = np.rollaxis(x_test_local, 1, 4)\n",
    "\n",
    "    return (x_train_local, y_train_local), (x_test_local, y_test_local)\n"
   ]
  },
  {
   "cell_type": "code",
   "execution_count": null,
   "metadata": {
    "scrolled": true
   },
   "outputs": [],
   "source": [
    "cifar_10_dir = 'cifar-10-batches-py'\n",
    "\n",
    "(CF10x_train, CF10y_train), (CF10x_test, CF10y_test) = load_data(cifar_10_dir)\n",
    "\n",
    "print(\"Train data (x_train): \", CF10x_train.shape)\n",
    "print(\"Train labels (y_train): \", CF10y_train.shape)\n",
    "print(\"Test data (x_test): \", CF10x_test.shape)\n",
    "print(\"Test labels (y_test): \", CF10y_test.shape)\n"
   ]
  },
  {
   "cell_type": "code",
   "execution_count": null,
   "metadata": {},
   "outputs": [],
   "source": [
    "#reshape CF10x_train and CF10x_test to a 2 dimensional array\n",
    "\n",
    "CF10x_train = CF10x_train.reshape(50000,3072)\n",
    "print(CF10x_train.shape)\n",
    "CF10x_test = CF10x_test.reshape(10000,3072)\n",
    "print(CF10x_test.shape)\n"
   ]
  },
  {
   "cell_type": "code",
   "execution_count": null,
   "metadata": {},
   "outputs": [],
   "source": [
    "def one_hot_encode(x):\n",
    "    \"\"\"\n",
    "        argument x: a list of labels\n",
    "        return one hot encoding matrix \n",
    "    \"\"\"\n",
    "    encoded = np.zeros((len(x), 10))\n",
    "    \n",
    "    for idx, val in enumerate(x):\n",
    "        encoded[idx][val] = 1\n",
    "    \n",
    "    return encoded\n",
    "\n",
    "CF10y_train = one_hot_encode(CF10y_train)\n",
    "print(CF10y_train.shape)\n",
    "CF10y_test = one_hot_encode(CF10y_test)\n",
    "print(CF10y_test.shape)\n"
   ]
  },
  {
   "cell_type": "markdown",
   "metadata": {},
   "source": [
    "## PLOT MNIST Dataset"
   ]
  },
  {
   "cell_type": "code",
   "execution_count": null,
   "metadata": {},
   "outputs": [],
   "source": [
    "#plot 100 images from the training set\n",
    "\n",
    "\n",
    "n = 100\n",
    "sqrt_n = int( n**0.5 )\n",
    "samples = np.random.randint(X_train.shape[0], size=n)\n",
    "\n",
    "plt.figure( figsize=(11,11) )\n",
    "\n",
    "cnt = 0\n",
    "for i in samples:\n",
    "    cnt += 1\n",
    "    plt.subplot( sqrt_n, sqrt_n, cnt )\n",
    "    plt.subplot( sqrt_n, sqrt_n, cnt ).axis('off')\n",
    "    plt.imshow( X_train[i].reshape(28,28), cmap='gray'  )\n",
    "\n",
    "plt.show()\n"
   ]
  },
  {
   "cell_type": "markdown",
   "metadata": {},
   "source": [
    "## Preprocessing the Mnist dataset\n",
    "\n",
    "### Normalize "
   ]
  },
  {
   "cell_type": "code",
   "execution_count": null,
   "metadata": {},
   "outputs": [],
   "source": [
    "X_train = X_train.astype(float)/255\n",
    "X_test = X_test.astype(float)/255"
   ]
  },
  {
   "cell_type": "markdown",
   "metadata": {},
   "source": [
    "## Add a column to the dataset"
   ]
  },
  {
   "cell_type": "code",
   "execution_count": null,
   "metadata": {},
   "outputs": [],
   "source": [
    "\n",
    "X_train = np.hstack( (np.ones((X_train.shape[0],1) ), X_train) )\n",
    "X_test = np.hstack( (np.ones((X_test.shape[0],1) ), X_test) )\n",
    "print(\"X_train shape = \",X_train.shape)\n",
    "print(\"X_test shape = \",X_test.shape)"
   ]
  },
  {
   "cell_type": "markdown",
   "metadata": {},
   "source": [
    "## Preprocessing CIFAR-10 dataset\n",
    "### Normalize "
   ]
  },
  {
   "cell_type": "code",
   "execution_count": null,
   "metadata": {},
   "outputs": [],
   "source": [
    "CF10x_train = CF10x_train.astype(float)/255\n",
    "CF10x_test = CF10x_test.astype(float)/255\n",
    "print(\"CF10x_train shape = \",CF10x_train.shape)\n",
    "print(\"CF10x_test shape = \",CF10x_test.shape)"
   ]
  },
  {
   "cell_type": "markdown",
   "metadata": {},
   "source": [
    "## Add a column to the dataset"
   ]
  },
  {
   "cell_type": "code",
   "execution_count": null,
   "metadata": {},
   "outputs": [],
   "source": [
    "\n",
    "CF10x_train = np.hstack( (np.ones((CF10x_train.shape[0],1) ), CF10x_train) )\n",
    "CF10x_test = np.hstack( (np.ones((CF10x_test.shape[0],1) ), CF10x_test) )\n",
    "print(\"CF10X_train shape = \",CF10x_train.shape)\n",
    "print(\"CF10X_test shape = \",CF10x_test.shape)"
   ]
  },
  {
   "cell_type": "markdown",
   "metadata": {},
   "source": [
    "## Softmax"
   ]
  },
  {
   "cell_type": "code",
   "execution_count": null,
   "metadata": {},
   "outputs": [],
   "source": [
    "def softmax( x, ax=1 ):\n",
    "    m = np.max( x, axis=ax, keepdims=True )#max per row\n",
    "    p = np.exp( x - m )\n",
    "    return ( p / np.sum(p,axis=ax,keepdims=True) )"
   ]
  },
  {
   "cell_type": "markdown",
   "metadata": {},
   "source": [
    "## Hidden layer activation functions"
   ]
  },
  {
   "cell_type": "code",
   "execution_count": null,
   "metadata": {},
   "outputs": [],
   "source": [
    "def activation_option(x,i):\n",
    "    if i==1 :\n",
    "        return np.log(1+ np.exp(x))\n",
    "    elif i==2:\n",
    "        return (np.exp(x)-np.exp(-x))/(np.exp(x)+np.exp(-x))\n",
    "    elif i==3:\n",
    "        return np.cos(x)"
   ]
  },
  {
   "cell_type": "markdown",
   "metadata": {},
   "source": [
    "## Derivative of activation functions"
   ]
  },
  {
   "cell_type": "code",
   "execution_count": null,
   "metadata": {},
   "outputs": [],
   "source": [
    "def der_active_option(x,i):\n",
    "    if i==1 :\n",
    "        return (np.exp(x)/(1 + np.exp(x)))\n",
    "    elif i==2:\n",
    "        return (1-(np.square(np.exp(x)-np.exp(-x))/np.square(np.exp(x)+np.exp(-x))))\n",
    "    elif i==3:\n",
    "        return (-np.sin(x))"
   ]
  },
  {
   "cell_type": "markdown",
   "metadata": {},
   "source": [
    "## Compute cost"
   ]
  },
  {
   "cell_type": "code",
   "execution_count": null,
   "metadata": {},
   "outputs": [],
   "source": [
    "def cost_grad_softmax(W1,W2, X, t, lamda , act_func):\n",
    "    a = X.dot(W1.T)\n",
    "\n",
    "    max_error = np.max(a, axis=1)\n",
    "    \n",
    "    z=activation_option(a,act_func)\n",
    "    \n",
    "    y = softmax(z.dot(W2.T))\n",
    "    \n",
    "    # Compute the cost function\n",
    "    # Using the logsumexp for numerical stability\n",
    "    Ew = np.sum(t * y) - np.sum(max_error) - \\\n",
    "        np.sum(np.log(np.sum(np.exp(y - np.array([max_error, ] * y.shape[1]).T), 1))) - \\\n",
    "        (0.5 * lamda) * np.sum(np.square(W2))\n",
    "\n",
    "    h_der = der_active_option(a,act_func)\n",
    "    \n",
    "    # calculate gradient\n",
    "    gradEw1 = (((t - y).dot(W2)*h_der).T).dot(X) - lamda *W1\n",
    "    gradEw2 = (t - y).T.dot(z) - lamda * W2\n",
    "    \n",
    "    return Ew, gradEw1,gradEw2"
   ]
  },
  {
   "cell_type": "markdown",
   "metadata": {},
   "source": [
    "## Train the network"
   ]
  },
  {
   "cell_type": "code",
   "execution_count": null,
   "metadata": {},
   "outputs": [],
   "source": [
    "def ml_softmax_train(t, X, lamda, W1init, W2init, options, batch_size, act_func):\n",
    "    \n",
    "    W1 = W1init\n",
    "    W2 = W2init\n",
    "\n",
    "    # Maximum number of iteration of gradient ascend\n",
    "    _iter = options[0]\n",
    "\n",
    "    # Tolerance\n",
    "    tol = options[1]\n",
    "\n",
    "    # Learning rate\n",
    "    eta = options[2]\n",
    "\n",
    "    Ewold = -np.inf\n",
    "    costs = []\n",
    "    for i in range( 1, _iter+1 ):\n",
    "        \n",
    "        #calculate iteration for a speci batch size\n",
    "        batch_iter = X.shape[0]//batch_size\n",
    "        \n",
    "        X_batch_data = np.zeros((batch_size,X.shape[1]))\n",
    "        Y_batch_data = np.zeros((batch_size,X.shape[1]))\n",
    "        \n",
    "        \n",
    "        for j in range(1,batch_iter+1):\n",
    "            batch_init = (j-1)*batch_size\n",
    "            batch_end = j*batch_size\n",
    "            X_input = X[batch_init:batch_end,:]\n",
    "            Y_out = t[batch_init:batch_end,:]\n",
    "            #print(\"X_batch data shape in loop : \",X_batch_data.shape)\n",
    "            \n",
    "        \n",
    "            Ew, gradEw1, gradEw2 = cost_grad_softmax(W1, W2, X_input, Y_out, lamda, act_func)\n",
    "           \n",
    "            # Update parameters based on gradient ascend\n",
    "            W1 = W1 + eta * gradEw1\n",
    "            W2 = W2 + eta * gradEw2\n",
    "                \n",
    "            \n",
    "        # save cost\n",
    "        costs.append(Ew)\n",
    "        # Show the current cost function on screen\n",
    "        print('Iteration : %d, Cost function :%f' % (i, Ew))\n",
    "        #print(\"difference = \",np.abs(Ew - Ewold),\"\\n\")\n",
    "\n",
    "        # Break if you achieve the desired accuracy in the cost function\n",
    "        if (np.abs(Ew - Ewold) < tol) :\n",
    "            print(\"Desired accuracy achieved!\")\n",
    "            print(Ew - Ewold)\n",
    "            break\n",
    "\n",
    "        Ewold = Ew\n",
    "\n",
    "    return W1,W2, costs"
   ]
  },
  {
   "cell_type": "markdown",
   "metadata": {},
   "source": [
    "##  Weights initialization\n",
    "### Xavier initialization"
   ]
  },
  {
   "cell_type": "code",
   "execution_count": null,
   "metadata": {},
   "outputs": [],
   "source": [
    "def weights_init(shape0,shape1):\n",
    "    W = np.random.randn(shape0,shape1)*np.sqrt(2/(shape0+shape1))\n",
    "    return W"
   ]
  },
  {
   "cell_type": "markdown",
   "metadata": {},
   "source": [
    "## Gradient checking"
   ]
  },
  {
   "cell_type": "code",
   "execution_count": null,
   "metadata": {},
   "outputs": [],
   "source": [
    "def gradcheck_softmax(W1init,W2init, X, t, lamda, act_func):\n",
    "    \n",
    "    W1 = weights_init(*W1init.shape)\n",
    "    W2 = weights_init(*W2init.shape)\n",
    "    epsilon = 1e-6\n",
    "    \n",
    "    _list = np.random.randint(X.shape[0], size=5)\n",
    "    x_sample = np.array(X[_list, :])\n",
    "    t_sample = np.array(t[_list, :])\n",
    "    \n",
    "    Ew, gradEw1, gradEw2 = cost_grad_softmax(W1,W2, x_sample, t_sample, lamda, act_func)\n",
    "    \n",
    "    numericalGrad1 = np.zeros(gradEw1.shape)\n",
    "    numericalGrad2 = np.zeros(gradEw2.shape)\n",
    "    \n",
    "    # Compute all numerical gradient estimates for W1 \n",
    "    # the matrix numericalGrad1\n",
    "    for k in range(numericalGrad1.shape[0]):\n",
    "        for d in range(numericalGrad1.shape[1]):\n",
    "            \n",
    "            #add epsilon to the w[k,d]\n",
    "            w_tmp = np.copy(W1)\n",
    "            w_tmp[k, d] += epsilon\n",
    "            e_plus, _, _ = cost_grad_softmax( w_tmp,W2, x_sample, t_sample, lamda, act_func)\n",
    "\n",
    "            #subtract epsilon to the w[k,d]\n",
    "            w_tmp = np.copy(W1)\n",
    "            w_tmp[k, d] -= epsilon\n",
    "            e_minus, _, _ = cost_grad_softmax( w_tmp,W2, x_sample, t_sample, lamda, act_func)\n",
    "            \n",
    "            #approximate gradient ( E[ w[k,d] + theta ] - E[ w[k,d] - theta ] ) / 2*e\n",
    "            numericalGrad1[k, d] = (e_plus - e_minus) / (2 * epsilon)\n",
    "    \n",
    "\n",
    "    # Compute all numerical gradient estimates for W2\n",
    "    # the matrix numericalGrad2\n",
    "    for k in range(numericalGrad2.shape[0]):\n",
    "        for d in range(numericalGrad2.shape[1]):\n",
    "            \n",
    "            #add epsilon to the w[k,d]\n",
    "            w2_tmp = np.copy(W2)\n",
    "            w2_tmp[k, d] += epsilon\n",
    "            e_plus, _, _ = cost_grad_softmax( W1,w2_tmp, x_sample, t_sample, lamda, act_func)\n",
    "\n",
    "            #subtract epsilon to the w[k,d]\n",
    "            w2_tmp = np.copy(W2)\n",
    "            w2_tmp[k, d] -= epsilon\n",
    "            e_minus, _, _ = cost_grad_softmax( W1, w2_tmp, x_sample, t_sample, lamda, act_func)\n",
    "            \n",
    "            #approximate gradient ( E[ w[k,d] + theta ] - E[ w[k,d] - theta ] ) / 2*e\n",
    "            numericalGrad2[k, d] = (e_plus - e_minus) / (2 * epsilon)\n",
    "            \n",
    "    return  gradEw1,gradEw2, numericalGrad1, numericalGrad2 "
   ]
  },
  {
   "cell_type": "markdown",
   "metadata": {},
   "source": [
    "## Training with Mnist dataset"
   ]
  },
  {
   "cell_type": "code",
   "execution_count": null,
   "metadata": {
    "scrolled": true
   },
   "outputs": [],
   "source": [
    "#shape of X (N,D)\n",
    "N, D = X_train.shape\n",
    "\n",
    "#batch size\n",
    "batch_size=200\n",
    "\n",
    "#output units\n",
    "K = 10\n",
    "\n",
    "#hidden layer units\n",
    "M_units =100\n",
    "\n",
    "# initialization of weights with Xavier\n",
    "W1init = weights_init(M_units, D)\n",
    "W2init = weights_init(K, M_units)\n",
    "\n",
    "\n",
    "\n",
    "# regularization parameter\n",
    "lamda = 0.1\n",
    "\n",
    "#activation function number 1,2 or 3\n",
    "activ_num =3;\n",
    "\n",
    "\n",
    "# options for gradient descent\n",
    "#options: Epochs, Tolerance, Learning rate\n",
    "\n",
    "options = [200, 1e-6, 0.5/N]\n",
    "\n",
    "# Train the model\n",
    "W1,W2, costs = ml_softmax_train(Y_train, X_train, lamda, W1init, W2init, options,batch_size, activ_num)\n",
    "\n"
   ]
  },
  {
   "cell_type": "code",
   "execution_count": null,
   "metadata": {},
   "outputs": [],
   "source": [
    "#Grandient check of model\n",
    "gradEw1, gradEw2, numericalGrad1, numericalGrad2 = gradcheck_softmax(W1init, W2init, X_train, Y_train, lamda, activ_num)\n",
    "\n",
    "# Absolute norm\n",
    "#print( \"The difference estimate for gradient of w1 is : \", np.max(np.abs(gradEw1 - numericalGrad1)) )\n",
    "#print( \"The difference estimate for gradient of w2 is : \", np.max(np.abs(gradEw2- numericalGrad2)) )\n"
   ]
  },
  {
   "cell_type": "markdown",
   "metadata": {},
   "source": [
    "## Training with CIFAR-10 dataset"
   ]
  },
  {
   "cell_type": "code",
   "execution_count": null,
   "metadata": {
    "scrolled": true
   },
   "outputs": [],
   "source": [
    "# N of X\n",
    "N, D = CF10x_train.shape\n",
    "batch_size=300\n",
    "\n",
    "K = 10\n",
    "M_units =100\n",
    "\n",
    "# initialize w for the gradient ascent\n",
    "W1init = weights_init(M_units, D)\n",
    "W2init = weights_init(K, M_units)\n",
    "\n",
    "\n",
    "\n",
    "# regularization parameter\n",
    "lamda = 0.1\n",
    "\n",
    "#activation function number\n",
    "activ_num =3;\n",
    "\n",
    "# options for gradient descent\n",
    "#options: Epochs, Tolerance, Learning rate\n",
    "options = [100, 1e-6, 0.5/N]\n",
    "\n",
    "# Train the model\n",
    "W1,W2, costs = ml_softmax_train(CF10y_train, CF10x_train, lamda, W1init, W2init, options,batch_size, activ_num)"
   ]
  },
  {
   "cell_type": "code",
   "execution_count": null,
   "metadata": {},
   "outputs": [],
   "source": [
    "#Grandient check of model with CF10 dataset\n",
    "gradEw1, gradEw2, numericalGrad1, numericalGrad2 = gradcheck_softmax(W1init, W2init, CF10x_train, CF10y_train, lamda, activ_num)\n",
    "\n",
    "# Absolute norm\n",
    "#print( \"The difference estimate for gradient of w1 is : \", np.max(np.abs(gradEw1 - numericalGrad1)) )\n",
    "#print( \"The difference estimate for gradient of w2 is : \", np.max(np.abs(gradEw2- numericalGrad2)) )"
   ]
  },
  {
   "cell_type": "markdown",
   "metadata": {},
   "source": [
    "## Predict "
   ]
  },
  {
   "cell_type": "code",
   "execution_count": null,
   "metadata": {},
   "outputs": [],
   "source": [
    "def predict_output(W1,W2,x_test, act_func):\n",
    "    a = x_test.dot(W1.T)\n",
    "    \n",
    "    z=activation_option(a,act_func)\n",
    "    \n",
    "    y_pred = softmax(z.dot(W2.T))\n",
    "    \n",
    "    y_pred = np.argmax(y_pred,1)\n",
    "    return y_pred   "
   ]
  },
  {
   "cell_type": "markdown",
   "metadata": {},
   "source": [
    "## Accuracy"
   ]
  },
  {
   "cell_type": "code",
   "execution_count": null,
   "metadata": {},
   "outputs": [],
   "source": [
    "def accuracy(y_pred,Y_test):\n",
    "    print(\"Accuracy : \",np.mean( y_pred == np.argmax(Y_test,1)))"
   ]
  },
  {
   "cell_type": "markdown",
   "metadata": {},
   "source": [
    "## Predict with Mnist Data"
   ]
  },
  {
   "cell_type": "code",
   "execution_count": null,
   "metadata": {},
   "outputs": [],
   "source": [
    "y_pred = predict_output(W1,W2,X_test, activ_num)\n",
    "print(\"y_pred.shape =\",y_pred.shape)\n",
    "\n",
    "accuracy(y_pred,Y_test)\n"
   ]
  },
  {
   "cell_type": "markdown",
   "metadata": {},
   "source": [
    "## Predict with CF10 Data"
   ]
  },
  {
   "cell_type": "code",
   "execution_count": null,
   "metadata": {},
   "outputs": [],
   "source": [
    "CF10y_pred = predict_output(W1,W2,CF10x_test, activ_num)\n",
    "print(\"y_pred.shape =\",CF10y_pred.shape)\n",
    "\n",
    "accuracy(CF10y_pred,CF10y_test)"
   ]
  },
  {
   "cell_type": "code",
   "execution_count": null,
   "metadata": {},
   "outputs": [],
   "source": []
  }
 ],
 "metadata": {
  "kernelspec": {
   "display_name": "Python 3",
   "language": "python",
   "name": "python3"
  },
  "language_info": {
   "codemirror_mode": {
    "name": "ipython",
    "version": 3
   },
   "file_extension": ".py",
   "mimetype": "text/x-python",
   "name": "python",
   "nbconvert_exporter": "python",
   "pygments_lexer": "ipython3",
   "version": "3.7.3"
  }
 },
 "nbformat": 4,
 "nbformat_minor": 2
}
